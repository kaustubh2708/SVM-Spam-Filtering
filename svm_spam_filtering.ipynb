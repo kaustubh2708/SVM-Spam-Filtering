{
  "nbformat": 4,
  "nbformat_minor": 0,
  "metadata": {
    "language_info": {
      "name": "python",
      "version": "3.7.9",
      "mimetype": "text/x-python",
      "codemirror_mode": {
        "name": "ipython",
        "version": 3
      },
      "pygments_lexer": "ipython3",
      "nbconvert_exporter": "python",
      "file_extension": ".py"
    },
    "anaconda-cloud": {},
    "kernelspec": {
      "name": "python3",
      "language": "python",
      "display_name": "Python 3"
    },
    "colab": {
      "name": "svm-spam-filtering.ipynb",
      "provenance": [],
      "include_colab_link": true
    }
  },
  "cells": [
    {
      "cell_type": "markdown",
      "metadata": {
        "id": "view-in-github",
        "colab_type": "text"
      },
      "source": [
        "<a href=\"https://colab.research.google.com/github/kaustubh2708/SVM-Spam-Filtering/blob/main/svm_spam_filtering.ipynb\" target=\"_parent\"><img src=\"https://colab.research.google.com/assets/colab-badge.svg\" alt=\"Open In Colab\"/></a>"
      ]
    },
    {
      "cell_type": "markdown",
      "metadata": {
        "id": "Xpcx8uuxujbs"
      },
      "source": [
        "# **CAT -3 PREDICTIVE ANALYSIS**\n"
      ]
    },
    {
      "cell_type": "markdown",
      "metadata": {
        "_uuid": "25f02ffdb0d53b9663f351fa0c0f415d2bce15b1",
        "_cell_guid": "f169d7cf-818b-4815-a5be-76265e99d139",
        "id": "E6wGtwHtujb7"
      },
      "source": [
        "#  Implement Support Vector Machine to build a spam classifier\n"
      ]
    },
    {
      "cell_type": "markdown",
      "metadata": {
        "_uuid": "e27ea858875f6d5698fcfb196b32160c8d761697",
        "_cell_guid": "ba30922b-183b-4f2e-ac19-35ebc9dd865a",
        "id": "VuJeW0odujb_"
      },
      "source": [
        "##  Import required libraries"
      ]
    },
    {
      "cell_type": "code",
      "metadata": {
        "_uuid": "5eb96b9e55cca9f7dbc74128cd5933856b39aa51",
        "_cell_guid": "77dbf249-4662-4faf-ae30-654f5f76f5b1",
        "trusted": true,
        "id": "xCoZOfsbujcD"
      },
      "source": [
        "import numpy as np\n",
        "import pandas as pd\n",
        "import matplotlib.pyplot as plt\n",
        "from collections import Counter\n",
        "from sklearn import feature_extraction, model_selection, naive_bayes, metrics, svm\n",
        "from IPython.display import Image\n",
        "import warnings\n",
        "warnings.filterwarnings(\"ignore\")\n",
        "%matplotlib inline  "
      ],
      "execution_count": null,
      "outputs": []
    },
    {
      "cell_type": "markdown",
      "metadata": {
        "_uuid": "2a11f84b23cf786579a3beb1074c6e7375456b77",
        "_cell_guid": "ab7471a7-9fda-4dc9-ba8b-6d4f0c1b92e1",
        "id": "--ryADktujcH"
      },
      "source": [
        "## Exploring the Dataset"
      ]
    },
    {
      "cell_type": "code",
      "metadata": {
        "_uuid": "3a9038c1ea6026f8ae89cf052aa71c89bcb940dd",
        "_cell_guid": "e8604809-62b9-47bd-84fa-92063d8ae5b3",
        "scrolled": true,
        "trusted": true,
        "colab": {
          "base_uri": "https://localhost:8080/",
          "height": 363
        },
        "id": "yzOf8vmsujcI",
        "outputId": "1f413074-df5b-41fa-8c28-043550edec66"
      },
      "source": [
        "data = pd.read_csv('/spam.csv', encoding='latin-1')\n",
        "data.head(n=10)"
      ],
      "execution_count": null,
      "outputs": [
        {
          "output_type": "execute_result",
          "data": {
            "text/html": [
              "<div>\n",
              "<style scoped>\n",
              "    .dataframe tbody tr th:only-of-type {\n",
              "        vertical-align: middle;\n",
              "    }\n",
              "\n",
              "    .dataframe tbody tr th {\n",
              "        vertical-align: top;\n",
              "    }\n",
              "\n",
              "    .dataframe thead th {\n",
              "        text-align: right;\n",
              "    }\n",
              "</style>\n",
              "<table border=\"1\" class=\"dataframe\">\n",
              "  <thead>\n",
              "    <tr style=\"text-align: right;\">\n",
              "      <th></th>\n",
              "      <th>v1</th>\n",
              "      <th>v2</th>\n",
              "      <th>Unnamed: 2</th>\n",
              "      <th>Unnamed: 3</th>\n",
              "      <th>Unnamed: 4</th>\n",
              "    </tr>\n",
              "  </thead>\n",
              "  <tbody>\n",
              "    <tr>\n",
              "      <th>0</th>\n",
              "      <td>ham</td>\n",
              "      <td>Go until jurong point, crazy.. Available only ...</td>\n",
              "      <td>NaN</td>\n",
              "      <td>NaN</td>\n",
              "      <td>NaN</td>\n",
              "    </tr>\n",
              "    <tr>\n",
              "      <th>1</th>\n",
              "      <td>ham</td>\n",
              "      <td>Ok lar... Joking wif u oni...</td>\n",
              "      <td>NaN</td>\n",
              "      <td>NaN</td>\n",
              "      <td>NaN</td>\n",
              "    </tr>\n",
              "    <tr>\n",
              "      <th>2</th>\n",
              "      <td>spam</td>\n",
              "      <td>Free entry in 2 a wkly comp to win FA Cup fina...</td>\n",
              "      <td>NaN</td>\n",
              "      <td>NaN</td>\n",
              "      <td>NaN</td>\n",
              "    </tr>\n",
              "    <tr>\n",
              "      <th>3</th>\n",
              "      <td>ham</td>\n",
              "      <td>U dun say so early hor... U c already then say...</td>\n",
              "      <td>NaN</td>\n",
              "      <td>NaN</td>\n",
              "      <td>NaN</td>\n",
              "    </tr>\n",
              "    <tr>\n",
              "      <th>4</th>\n",
              "      <td>ham</td>\n",
              "      <td>Nah I don't think he goes to usf, he lives aro...</td>\n",
              "      <td>NaN</td>\n",
              "      <td>NaN</td>\n",
              "      <td>NaN</td>\n",
              "    </tr>\n",
              "    <tr>\n",
              "      <th>5</th>\n",
              "      <td>spam</td>\n",
              "      <td>FreeMsg Hey there darling it's been 3 week's n...</td>\n",
              "      <td>NaN</td>\n",
              "      <td>NaN</td>\n",
              "      <td>NaN</td>\n",
              "    </tr>\n",
              "    <tr>\n",
              "      <th>6</th>\n",
              "      <td>ham</td>\n",
              "      <td>Even my brother is not like to speak with me. ...</td>\n",
              "      <td>NaN</td>\n",
              "      <td>NaN</td>\n",
              "      <td>NaN</td>\n",
              "    </tr>\n",
              "    <tr>\n",
              "      <th>7</th>\n",
              "      <td>ham</td>\n",
              "      <td>As per your request 'Melle Melle (Oru Minnamin...</td>\n",
              "      <td>NaN</td>\n",
              "      <td>NaN</td>\n",
              "      <td>NaN</td>\n",
              "    </tr>\n",
              "    <tr>\n",
              "      <th>8</th>\n",
              "      <td>spam</td>\n",
              "      <td>WINNER!! As a valued network customer you have...</td>\n",
              "      <td>NaN</td>\n",
              "      <td>NaN</td>\n",
              "      <td>NaN</td>\n",
              "    </tr>\n",
              "    <tr>\n",
              "      <th>9</th>\n",
              "      <td>spam</td>\n",
              "      <td>Had your mobile 11 months or more? U R entitle...</td>\n",
              "      <td>NaN</td>\n",
              "      <td>NaN</td>\n",
              "      <td>NaN</td>\n",
              "    </tr>\n",
              "  </tbody>\n",
              "</table>\n",
              "</div>"
            ],
            "text/plain": [
              "     v1  ... Unnamed: 4\n",
              "0   ham  ...        NaN\n",
              "1   ham  ...        NaN\n",
              "2  spam  ...        NaN\n",
              "3   ham  ...        NaN\n",
              "4   ham  ...        NaN\n",
              "5  spam  ...        NaN\n",
              "6   ham  ...        NaN\n",
              "7   ham  ...        NaN\n",
              "8  spam  ...        NaN\n",
              "9  spam  ...        NaN\n",
              "\n",
              "[10 rows x 5 columns]"
            ]
          },
          "metadata": {
            "tags": []
          },
          "execution_count": 2
        }
      ]
    },
    {
      "cell_type": "markdown",
      "metadata": {
        "id": "WZOu2UaCujcM"
      },
      "source": [
        "## Describe the Data Set"
      ]
    },
    {
      "cell_type": "code",
      "metadata": {
        "trusted": true,
        "colab": {
          "base_uri": "https://localhost:8080/"
        },
        "id": "OZri2kjiujcO",
        "outputId": "9e77dc62-4c77-40df-845b-090986efcaed"
      },
      "source": [
        "data.info()"
      ],
      "execution_count": null,
      "outputs": [
        {
          "output_type": "stream",
          "text": [
            "<class 'pandas.core.frame.DataFrame'>\n",
            "RangeIndex: 5572 entries, 0 to 5571\n",
            "Data columns (total 5 columns):\n",
            " #   Column      Non-Null Count  Dtype \n",
            "---  ------      --------------  ----- \n",
            " 0   v1          5572 non-null   object\n",
            " 1   v2          5572 non-null   object\n",
            " 2   Unnamed: 2  50 non-null     object\n",
            " 3   Unnamed: 3  12 non-null     object\n",
            " 4   Unnamed: 4  6 non-null      object\n",
            "dtypes: object(5)\n",
            "memory usage: 217.8+ KB\n"
          ],
          "name": "stdout"
        }
      ]
    },
    {
      "cell_type": "markdown",
      "metadata": {
        "_uuid": "d71ec916875461c07bdb1f9d53d9b0a7210de035",
        "_cell_guid": "2ed76eea-004a-42a0-a1c9-c45c092bbb4b",
        "id": "KDSjY4KLujcP"
      },
      "source": [
        "## Distribution spam/non-spam plots"
      ]
    },
    {
      "cell_type": "code",
      "metadata": {
        "_uuid": "99a4b831313c23573b7972c65637d01dd497c6fe",
        "_cell_guid": "74f9cf41-4793-4be5-a46e-bdb93067e973",
        "trusted": true,
        "colab": {
          "base_uri": "https://localhost:8080/",
          "height": 299
        },
        "id": "L2aGMwh_ujcR",
        "outputId": "dd3d36c1-c753-4326-d57b-8102ad918edc"
      },
      "source": [
        "count_Class=pd.value_counts(data[\"v1\"], sort= True)\n",
        "count_Class.plot(kind= 'bar', color= [\"blue\", \"orange\"])\n",
        "plt.title('Bar chart')\n",
        "plt.show()"
      ],
      "execution_count": null,
      "outputs": [
        {
          "output_type": "display_data",
          "data": {
            "image/png": "[encoded data removed]",
            "text/plain": [
              "<Figure size 432x288 with 1 Axes>"
            ]
          },
          "metadata": {
            "tags": [],
            "needs_background": "light"
          }
        }
      ]
    },
    {
      "cell_type": "code",
      "metadata": {
        "_uuid": "f233eab105cb93e90ce37f9361616a5be6645751",
        "_cell_guid": "5596df63-7be7-4625-b952-c5508917a630",
        "trusted": true,
        "colab": {
          "base_uri": "https://localhost:8080/",
          "height": 264
        },
        "id": "fYOp9z0CujcT",
        "outputId": "f97d5ec2-02b7-4a1b-b88f-b41ec212c4c1"
      },
      "source": [
        "count_Class.plot(kind = 'pie', shadow=True,explode=(0,0.1), autopct='%1.1f%%')\n",
        "plt.title('Pie chart')\n",
        "plt.ylabel('')\n",
        "plt.show()"
      ],
      "execution_count": null,
      "outputs": [
        {
          "output_type": "display_data",
          "data": {
            "image/png": "[encoded data removed]",
            "text/plain": [
              "<Figure size 432x288 with 1 Axes>"
            ]
          },
          "metadata": {
            "tags": []
          }
        }
      ]
    },
    {
      "cell_type": "markdown",
      "metadata": {
        "_uuid": "9ec51be1879d2987eef26632bc411a3577b42ae8",
        "_cell_guid": "ff53e1a6-a37b-4a31-9b41-c959296156de",
        "id": "jfsuEbRCujcY"
      },
      "source": [
        "## Text Analytics"
      ]
    },
    {
      "cell_type": "markdown",
      "metadata": {
        "_uuid": "b3c395e8534efc8a402df3b6ac1b699b48fa09f3",
        "_cell_guid": "ba58d2e5-63a4-4443-ab05-7810decb5eb7",
        "id": "p2gCSc91ujcY"
      },
      "source": [
        "We want to find the frequencies of words in the spam and non-spam messages. The words of the messages will be model features.<p>\n",
        "We use the function Counter."
      ]
    },
    {
      "cell_type": "code",
      "metadata": {
        "_uuid": "03677f8369b4bb3450ffe8a9cd3de9c0b01e681d",
        "_cell_guid": "8c750858-87e9-498c-86f5-4df7310f9e63",
        "trusted": true,
        "id": "wx7TBcbLujca"
      },
      "source": [
        "count1 = Counter(\" \".join(data[data['v1']=='ham'][\"v2\"]).split()).most_common(20)\n",
        "df1 = pd.DataFrame.from_dict(count1)\n",
        "df1 = df1.rename(columns={0: \"words in non-spam\", 1 : \"count\"})\n",
        "count2 = Counter(\" \".join(data[data['v1']=='spam'][\"v2\"]).split()).most_common(20)\n",
        "df2 = pd.DataFrame.from_dict(count2)\n",
        "df2 = df2.rename(columns={0: \"words in spam\", 1 : \"count_\"})"
      ],
      "execution_count": null,
      "outputs": []
    },
    {
      "cell_type": "code",
      "metadata": {
        "_uuid": "d18e09f35264ea374ffce57eae07c9335439a2ef",
        "_cell_guid": "b8850226-0043-4a37-9e65-a8409efe7026",
        "trusted": true,
        "colab": {
          "base_uri": "https://localhost:8080/",
          "height": 310
        },
        "id": "_wBICfHXujcb",
        "outputId": "31e3035f-e8b7-4af1-e6f6-d74c6b53039b"
      },
      "source": [
        "df1.plot.bar(legend = False)\n",
        "y_pos = np.arange(len(df1[\"words in non-spam\"]))\n",
        "plt.xticks(y_pos, df1[\"words in non-spam\"])\n",
        "plt.title('More frequent words in non-spam messages')\n",
        "plt.xlabel('words')\n",
        "plt.ylabel('number')\n",
        "plt.show()"
      ],
      "execution_count": null,
      "outputs": [
        {
          "output_type": "display_data",
          "data": {
            "image/png": "[encoded data removed]",
            "text/plain": [
              "<Figure size 432x288 with 1 Axes>"
            ]
          },
          "metadata": {
            "tags": [],
            "needs_background": "light"
          }
        }
      ]
    },
    {
      "cell_type": "code",
      "metadata": {
        "_uuid": "bf9b59581db68038824724344fe937e65f5f8661",
        "_cell_guid": "9637faec-7114-4365-aceb-a2d74787a205",
        "trusted": true,
        "colab": {
          "base_uri": "https://localhost:8080/",
          "height": 310
        },
        "id": "139I7KoKujcc",
        "outputId": "abf1dd18-6135-4e69-cf84-c21b6ed2fe6a"
      },
      "source": [
        "df2.plot.bar(legend = False, color = 'orange')\n",
        "y_pos = np.arange(len(df2[\"words in spam\"]))\n",
        "plt.xticks(y_pos, df2[\"words in spam\"])\n",
        "plt.title('More frequent words in spam messages')\n",
        "plt.xlabel('words')\n",
        "plt.ylabel('number')\n",
        "plt.show()"
      ],
      "execution_count": null,
      "outputs": [
        {
          "output_type": "display_data",
          "data": {
            "image/png": "[encoded data removed]",
            "text/plain": [
              "<Figure size 432x288 with 1 Axes>"
            ]
          },
          "metadata": {
            "tags": [],
            "needs_background": "light"
          }
        }
      ]
    },
    {
      "cell_type": "markdown",
      "metadata": {
        "_uuid": "c971edae5a8be1bfd0719e777ba92322ad897abe",
        "_cell_guid": "40db40e9-aeb2-487f-9ab7-d6debf26d611",
        "id": "SF7TwcQSujce"
      },
      "source": [
        "#### We can see that the majority of frequent words in both classes are stop words such as 'to', 'a', 'or' and so on.\n",
        "\n",
        "#### With stop words we refer to the most common words in a language, there is no single, universal list of stop words."
      ]
    },
    {
      "cell_type": "markdown",
      "metadata": {
        "_uuid": "1f0489faa50638217e4754ff0a8f26e5298752df",
        "_cell_guid": "448eda90-2493-46f0-a588-8e6e73b7e2d3",
        "id": "HN84RMI7ujcf"
      },
      "source": [
        "## **Predictive Analysis**"
      ]
    },
    {
      "cell_type": "markdown",
      "metadata": {
        "_uuid": "da31f2e8dd19f4ff0a6c1f6dbf29b34a2c28391a",
        "_cell_guid": "e19c8da3-73b0-4ed8-ac08-04e45a4309da",
        "id": "0D0jD5ntujcg"
      },
      "source": [
        "#### **Our goal is to predict if a new sms is spam or non-spam. We assume that is much worse misclassify non-spam than misclassify an spam. (We want to have minimum number of false positives)**\n",
        "\n",
        "\n",
        "#### This model should get lowest possible number of spam message in our inbox(False Negative) and lowest number of non spam message in the spam folder(False Positive).\n",
        "\n",
        "#### First we transform the variable spam/non-spam into binary variable(assigning binary values 0 to non spam mails and 1 to spam mails), then we split our data set in training set and test set. "
      ]
    },
    {
      "cell_type": "code",
      "metadata": {
        "_uuid": "ab65abc5fe63168bfea503db8e58e5ab03383a22",
        "_cell_guid": "e5e2bee3-cdad-4ee6-9c59-f3a536195ed7",
        "trusted": true,
        "colab": {
          "base_uri": "https://localhost:8080/",
          "height": 210
        },
        "id": "i_K_z6l0ujci",
        "outputId": "2e046411-e799-4689-9bf0-0d79e3a0dac2"
      },
      "source": [
        "data[\"v1\"]=data[\"v1\"].map({'spam':1,'ham':0})\n",
        "X_train, X_test, y_train, y_test = model_selection.train_test_split(X, data['v1'], test_size=0.33, random_state=42)\n",
        "print([np.shape(X_train), np.shape(X_test)])"
      ],
      "execution_count": null,
      "outputs": [
        {
          "output_type": "error",
          "ename": "NameError",
          "evalue": "ignored",
          "traceback": [
            "\u001b[0;31m---------------------------------------------------------------------------\u001b[0m",
            "\u001b[0;31mNameError\u001b[0m                                 Traceback (most recent call last)",
            "\u001b[0;32m<ipython-input-10-f6352318c6b4>\u001b[0m in \u001b[0;36m<module>\u001b[0;34m()\u001b[0m\n\u001b[1;32m      1\u001b[0m \u001b[0mdata\u001b[0m\u001b[0;34m[\u001b[0m\u001b[0;34m\"v1\"\u001b[0m\u001b[0;34m]\u001b[0m\u001b[0;34m=\u001b[0m\u001b[0mdata\u001b[0m\u001b[0;34m[\u001b[0m\u001b[0;34m\"v1\"\u001b[0m\u001b[0;34m]\u001b[0m\u001b[0;34m.\u001b[0m\u001b[0mmap\u001b[0m\u001b[0;34m(\u001b[0m\u001b[0;34m{\u001b[0m\u001b[0;34m'spam'\u001b[0m\u001b[0;34m:\u001b[0m\u001b[0;36m1\u001b[0m\u001b[0;34m,\u001b[0m\u001b[0;34m'ham'\u001b[0m\u001b[0;34m:\u001b[0m\u001b[0;36m0\u001b[0m\u001b[0;34m}\u001b[0m\u001b[0;34m)\u001b[0m\u001b[0;34m\u001b[0m\u001b[0;34m\u001b[0m\u001b[0m\n\u001b[0;32m----> 2\u001b[0;31m \u001b[0mX_train\u001b[0m\u001b[0;34m,\u001b[0m \u001b[0mX_test\u001b[0m\u001b[0;34m,\u001b[0m \u001b[0my_train\u001b[0m\u001b[0;34m,\u001b[0m \u001b[0my_test\u001b[0m \u001b[0;34m=\u001b[0m \u001b[0mmodel_selection\u001b[0m\u001b[0;34m.\u001b[0m\u001b[0mtrain_test_split\u001b[0m\u001b[0;34m(\u001b[0m\u001b[0mX\u001b[0m\u001b[0;34m,\u001b[0m \u001b[0mdata\u001b[0m\u001b[0;34m[\u001b[0m\u001b[0;34m'v1'\u001b[0m\u001b[0;34m]\u001b[0m\u001b[0;34m,\u001b[0m \u001b[0mtest_size\u001b[0m\u001b[0;34m=\u001b[0m\u001b[0;36m0.33\u001b[0m\u001b[0;34m,\u001b[0m \u001b[0mrandom_state\u001b[0m\u001b[0;34m=\u001b[0m\u001b[0;36m42\u001b[0m\u001b[0;34m)\u001b[0m\u001b[0;34m\u001b[0m\u001b[0;34m\u001b[0m\u001b[0m\n\u001b[0m\u001b[1;32m      3\u001b[0m \u001b[0mprint\u001b[0m\u001b[0;34m(\u001b[0m\u001b[0;34m[\u001b[0m\u001b[0mnp\u001b[0m\u001b[0;34m.\u001b[0m\u001b[0mshape\u001b[0m\u001b[0;34m(\u001b[0m\u001b[0mX_train\u001b[0m\u001b[0;34m)\u001b[0m\u001b[0;34m,\u001b[0m \u001b[0mnp\u001b[0m\u001b[0;34m.\u001b[0m\u001b[0mshape\u001b[0m\u001b[0;34m(\u001b[0m\u001b[0mX_test\u001b[0m\u001b[0;34m)\u001b[0m\u001b[0;34m]\u001b[0m\u001b[0;34m)\u001b[0m\u001b[0;34m\u001b[0m\u001b[0;34m\u001b[0m\u001b[0m\n",
            "\u001b[0;31mNameError\u001b[0m: name 'X' is not defined"
          ]
        }
      ]
    },
    {
      "cell_type": "markdown",
      "metadata": {
        "_uuid": "63efdf82c6e3aeabf14cc906cec456ba6f6a6ac0",
        "_cell_guid": "edfcb798-4f74-4552-8bea-2617804eea56",
        "id": "DhoPJFTaujcj"
      },
      "source": [
        "## **Support Vector Machine**"
      ]
    },
    {
      "cell_type": "markdown",
      "metadata": {
        "_uuid": "2d549025a14408ce4cd2df88f02c3468e75b9c45",
        "_cell_guid": "2fc3af32-8b41-402b-b934-7e594eb4c972",
        "id": "vGJIbCQ1ujcj"
      },
      "source": [
        "#### We are going to apply the same reasoning applying the support vector machine model with the gaussian kernel.\n",
        "\n",
        "#### We train different models changing the regularization parameter C.\n",
        "\n",
        "#### We evaluate the accuracy, recall and precision of the model with the test set."
      ]
    },
    {
      "cell_type": "code",
      "metadata": {
        "_uuid": "1101b49ede4dccec53089e86f3db2969abea67ee",
        "_cell_guid": "f82fc85a-e883-42d1-abbc-c3b3342247dc",
        "trusted": true,
        "id": "GteB7YQRujcj"
      },
      "source": [
        "list_C = np.arange(500, 2000, 100) #100000\n",
        "score_train = np.zeros(len(list_C))\n",
        "score_test = np.zeros(len(list_C))\n",
        "recall_test = np.zeros(len(list_C))\n",
        "precision_test= np.zeros(len(list_C))\n",
        "count = 0\n",
        "for C in list_C:\n",
        "    svc = svm.SVC(C=C)\n",
        "    svc.fit(X_train, y_train)\n",
        "    score_train[count] = svc.score(X_train, y_train)\n",
        "    score_test[count]= svc.score(X_test, y_test)\n",
        "    recall_test[count] = metrics.recall_score(y_test, svc.predict(X_test))\n",
        "    precision_test[count] = metrics.precision_score(y_test, svc.predict(X_test))\n",
        "    count = count + 1 "
      ],
      "execution_count": null,
      "outputs": []
    },
    {
      "cell_type": "markdown",
      "metadata": {
        "_uuid": "4e1c88cc318233afe97fa9e298562c1e6025de1d",
        "_cell_guid": "820fad12-6a0e-4ec6-b16a-e9734d69bf64",
        "id": "NkaWZ89Yujck"
      },
      "source": [
        "#### Now let's look at our learning model and its metrics"
      ]
    },
    {
      "cell_type": "code",
      "metadata": {
        "_uuid": "ec36f5defc3f1477cca07c5280818ee4282995d9",
        "_cell_guid": "4da69237-fe8c-40ac-a72a-d33dc7863859",
        "trusted": true,
        "id": "KnxoG2ueujcl"
      },
      "source": [
        "matrix = np.matrix(np.c_[list_C, score_train, score_test, recall_test, precision_test])\n",
        "models = pd.DataFrame(data = matrix, columns = \n",
        "             ['C', 'Train Accuracy', 'Test Accuracy', 'Test Recall', 'Test Precision'])\n",
        "models.head(n=10)"
      ],
      "execution_count": null,
      "outputs": []
    },
    {
      "cell_type": "markdown",
      "metadata": {
        "_uuid": "17a895a4c6a415493afae69ebeff7d172f09b014",
        "_cell_guid": "7d5e554d-e0d8-44b0-9fca-480063caf529",
        "id": "EqoBq4maujcn"
      },
      "source": [
        "#### Checking for model with highest precision"
      ]
    },
    {
      "cell_type": "code",
      "metadata": {
        "_uuid": "45c5f185a965f1b92889e56ce5f12c7acacffdf6",
        "_cell_guid": "d0380748-44f5-4e41-af56-d25230c44479",
        "trusted": true,
        "id": "YxaQxQj_ujcn"
      },
      "source": [
        "best_index = models['Test Precision'].idxmax()\n",
        "models.iloc[best_index, :]"
      ],
      "execution_count": null,
      "outputs": []
    },
    {
      "cell_type": "markdown",
      "metadata": {
        "_uuid": "a428ab899dc27a65d3ec696ead5a049663c16524",
        "_cell_guid": "166cb5ab-09da-49f4-bbb7-4e43bebd5c8e",
        "id": "XqGevq3eujco"
      },
      "source": [
        "#### Now we see if there are more than 1 model available with the highest precision(99.5%)"
      ]
    },
    {
      "cell_type": "code",
      "metadata": {
        "_uuid": "fe2f070186300fed89e91380437f036e5feabe1d",
        "_cell_guid": "89a59c66-8814-49d0-8f0e-f3b8acee666b",
        "trusted": true,
        "id": "hOBKLf6jujcp"
      },
      "source": [
        "models[models['Test Precision']>=0.995].head(n=20)"
      ],
      "execution_count": null,
      "outputs": []
    },
    {
      "cell_type": "markdown",
      "metadata": {
        "_uuid": "790cff4e431937d762bbe8db39911bf0d87dc53d",
        "_cell_guid": "08cb6d81-fb1d-4e11-95a6-7922d19d082b",
        "id": "HuWgntprujcq"
      },
      "source": [
        "#### Between these models with the highest possible precision, we are going to selct which has more test accuracy."
      ]
    },
    {
      "cell_type": "code",
      "metadata": {
        "_uuid": "d7d6eb9f249d10c19d4b9332c794476973dcf33f",
        "_cell_guid": "49e4103a-3be1-4feb-bec4-d8baa5255a0b",
        "trusted": true,
        "id": "y0Q5g0d7ujcq"
      },
      "source": [
        "best_index = models[models['Test Precision']>=0.995]['Test Accuracy'].idxmax()\n",
        "svc = svm.SVC(C=list_C[best_index])\n",
        "svc.fit(X_train, y_train)\n",
        "models.iloc[best_index, :]"
      ],
      "execution_count": null,
      "outputs": []
    },
    {
      "cell_type": "markdown",
      "metadata": {
        "_uuid": "dd004721e1b6171488e1acf4c2a14235fc7f9700",
        "_cell_guid": "d41fbc97-15f5-4963-9d5f-1452b2efe7ab",
        "id": "6Z2FXd_wujcr"
      },
      "source": [
        "### **Confusion matrix with support vector machine classifier.**"
      ]
    },
    {
      "cell_type": "code",
      "metadata": {
        "_uuid": "77005bd9a0fd6de323ada9206468c0598fa9c476",
        "_cell_guid": "bf03b698-42e2-407f-a3da-dcc4acc36221",
        "trusted": true,
        "id": "Ey7-33xmujcs"
      },
      "source": [
        "m_confusion_test = metrics.confusion_matrix(y_test, svc.predict(X_test))\n",
        "pd.DataFrame(data = m_confusion_test, columns = ['Predicted 0', 'Predicted 1'],\n",
        "            index = ['Actual 0', 'Actual 1'])"
      ],
      "execution_count": null,
      "outputs": []
    },
    {
      "cell_type": "markdown",
      "metadata": {
        "_uuid": "5190739594c1136056c12e2539889e38a9827641",
        "_cell_guid": "44c24499-7357-41f3-af6f-2d05f2b988b4",
        "id": "-OeSA7d9ujcs"
      },
      "source": [
        "#### We misclassify 37 spam as non-spam messages and we misclassify 1 non-spam message."
      ]
    },
    {
      "cell_type": "markdown",
      "metadata": {
        "id": "R97nXQO7ujcu"
      },
      "source": [
        "### **Accuracy**"
      ]
    },
    {
      "cell_type": "code",
      "metadata": {
        "trusted": true,
        "id": "WdW3N2vEujcu"
      },
      "source": [
        "svc.score(X_test,y_test)"
      ],
      "execution_count": null,
      "outputs": []
    },
    {
      "cell_type": "markdown",
      "metadata": {
        "id": "jQTs1J3Hujcv"
      },
      "source": [
        "#### Here we are getting accuracy of 97.93%"
      ]
    }
  ]
}